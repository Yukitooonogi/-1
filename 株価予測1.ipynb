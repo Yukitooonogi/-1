{
 "cells": [
  {
   "cell_type": "code",
   "execution_count": 17,
   "id": "0ac967e8-ae71-4b8a-aece-89adcea2fdf2",
   "metadata": {},
   "outputs": [
    {
     "name": "stdout",
     "output_type": "stream",
     "text": [
      "             始値   高値   安値   終値\n",
      "2022/02/01  272  274  269  270\n",
      "2022/02/02  273  275  276  275\n",
      "2022/02/03  277  273  271  272\n"
     ]
    }
   ],
   "source": [
    "import pandas as pd\n",
    "\n",
    "data01 = [\n",
    "    [272,274,269,270],\n",
    "    [273,275,276,275],\n",
    "    [277,273,271,272]\n",
    "]\n",
    "\n",
    "df_data01 = pd.DataFrame(data01,\n",
    "                         index = ['2022/02/01','2022/02/02','2022/02/03'],\n",
    "                         columns = ['始値','高値','安値','終値'])\n",
    "\n",
    "print(df_data01)\n",
    "\n"
   ]
  },
  {
   "cell_type": "code",
   "execution_count": 22,
   "id": "9145e320-8482-4c03-a9aa-1d13c7a1c685",
   "metadata": {},
   "outputs": [
    {
     "name": "stdout",
     "output_type": "stream",
     "text": [
      "           result\n",
      "2022/02/01     up\n",
      "2022/02/02   down\n",
      "2022/02/03     up\n"
     ]
    }
   ],
   "source": [
    "ans01=[\n",
    "    ['up'],\n",
    "    ['down'],\n",
    "    ['up']\n",
    "]\n",
    "df_a01=pd.DataFrame(ans01,\n",
    "                   index=['2022/02/01','2022/02/02','2022/02/03'],\n",
    "                   columns=['result'])\n",
    "print(df_a01)"
   ]
  },
  {
   "cell_type": "code",
   "execution_count": 24,
   "id": "be151a87-bbe0-4bfe-852d-6035249a9c6e",
   "metadata": {},
   "outputs": [
    {
     "data": {
      "text/html": [
       "<style>#sk-container-id-1 {color: black;background-color: white;}#sk-container-id-1 pre{padding: 0;}#sk-container-id-1 div.sk-toggleable {background-color: white;}#sk-container-id-1 label.sk-toggleable__label {cursor: pointer;display: block;width: 100%;margin-bottom: 0;padding: 0.3em;box-sizing: border-box;text-align: center;}#sk-container-id-1 label.sk-toggleable__label-arrow:before {content: \"▸\";float: left;margin-right: 0.25em;color: #696969;}#sk-container-id-1 label.sk-toggleable__label-arrow:hover:before {color: black;}#sk-container-id-1 div.sk-estimator:hover label.sk-toggleable__label-arrow:before {color: black;}#sk-container-id-1 div.sk-toggleable__content {max-height: 0;max-width: 0;overflow: hidden;text-align: left;background-color: #f0f8ff;}#sk-container-id-1 div.sk-toggleable__content pre {margin: 0.2em;color: black;border-radius: 0.25em;background-color: #f0f8ff;}#sk-container-id-1 input.sk-toggleable__control:checked~div.sk-toggleable__content {max-height: 200px;max-width: 100%;overflow: auto;}#sk-container-id-1 input.sk-toggleable__control:checked~label.sk-toggleable__label-arrow:before {content: \"▾\";}#sk-container-id-1 div.sk-estimator input.sk-toggleable__control:checked~label.sk-toggleable__label {background-color: #d4ebff;}#sk-container-id-1 div.sk-label input.sk-toggleable__control:checked~label.sk-toggleable__label {background-color: #d4ebff;}#sk-container-id-1 input.sk-hidden--visually {border: 0;clip: rect(1px 1px 1px 1px);clip: rect(1px, 1px, 1px, 1px);height: 1px;margin: -1px;overflow: hidden;padding: 0;position: absolute;width: 1px;}#sk-container-id-1 div.sk-estimator {font-family: monospace;background-color: #f0f8ff;border: 1px dotted black;border-radius: 0.25em;box-sizing: border-box;margin-bottom: 0.5em;}#sk-container-id-1 div.sk-estimator:hover {background-color: #d4ebff;}#sk-container-id-1 div.sk-parallel-item::after {content: \"\";width: 100%;border-bottom: 1px solid gray;flex-grow: 1;}#sk-container-id-1 div.sk-label:hover label.sk-toggleable__label {background-color: #d4ebff;}#sk-container-id-1 div.sk-serial::before {content: \"\";position: absolute;border-left: 1px solid gray;box-sizing: border-box;top: 0;bottom: 0;left: 50%;z-index: 0;}#sk-container-id-1 div.sk-serial {display: flex;flex-direction: column;align-items: center;background-color: white;padding-right: 0.2em;padding-left: 0.2em;position: relative;}#sk-container-id-1 div.sk-item {position: relative;z-index: 1;}#sk-container-id-1 div.sk-parallel {display: flex;align-items: stretch;justify-content: center;background-color: white;position: relative;}#sk-container-id-1 div.sk-item::before, #sk-container-id-1 div.sk-parallel-item::before {content: \"\";position: absolute;border-left: 1px solid gray;box-sizing: border-box;top: 0;bottom: 0;left: 50%;z-index: -1;}#sk-container-id-1 div.sk-parallel-item {display: flex;flex-direction: column;z-index: 1;position: relative;background-color: white;}#sk-container-id-1 div.sk-parallel-item:first-child::after {align-self: flex-end;width: 50%;}#sk-container-id-1 div.sk-parallel-item:last-child::after {align-self: flex-start;width: 50%;}#sk-container-id-1 div.sk-parallel-item:only-child::after {width: 0;}#sk-container-id-1 div.sk-dashed-wrapped {border: 1px dashed gray;margin: 0 0.4em 0.5em 0.4em;box-sizing: border-box;padding-bottom: 0.4em;background-color: white;}#sk-container-id-1 div.sk-label label {font-family: monospace;font-weight: bold;display: inline-block;line-height: 1.2em;}#sk-container-id-1 div.sk-label-container {text-align: center;}#sk-container-id-1 div.sk-container {/* jupyter's `normalize.less` sets `[hidden] { display: none; }` but bootstrap.min.css set `[hidden] { display: none !important; }` so we also need the `!important` here to be able to override the default hidden behavior on the sphinx rendered scikit-learn.org. See: https://github.com/scikit-learn/scikit-learn/issues/21755 */display: inline-block !important;position: relative;}#sk-container-id-1 div.sk-text-repr-fallback {display: none;}</style><div id=\"sk-container-id-1\" class=\"sk-top-container\"><div class=\"sk-text-repr-fallback\"><pre>DecisionTreeClassifier(max_depth=2, random_state=0)</pre><b>In a Jupyter environment, please rerun this cell to show the HTML representation or trust the notebook. <br />On GitHub, the HTML representation is unable to render, please try loading this page with nbviewer.org.</b></div><div class=\"sk-container\" hidden><div class=\"sk-item\"><div class=\"sk-estimator sk-toggleable\"><input class=\"sk-toggleable__control sk-hidden--visually\" id=\"sk-estimator-id-1\" type=\"checkbox\" checked><label for=\"sk-estimator-id-1\" class=\"sk-toggleable__label sk-toggleable__label-arrow\">DecisionTreeClassifier</label><div class=\"sk-toggleable__content\"><pre>DecisionTreeClassifier(max_depth=2, random_state=0)</pre></div></div></div></div></div>"
      ],
      "text/plain": [
       "DecisionTreeClassifier(max_depth=2, random_state=0)"
      ]
     },
     "execution_count": 24,
     "metadata": {},
     "output_type": "execute_result"
    }
   ],
   "source": [
    "from sklearn import tree\n",
    "model_01=tree.DecisionTreeClassifier(max_depth=2,\n",
    "                                    random_state=0)\n",
    "model_01.fit(df_date01,df_a01)"
   ]
  },
  {
   "cell_type": "code",
   "execution_count": 35,
   "id": "146b3c29-3a0b-4aea-8b67-284840f5e8f3",
   "metadata": {},
   "outputs": [
    {
     "name": "stdout",
     "output_type": "stream",
     "text": [
      "             始値   高値   安値   終値\n",
      "2022/02/04  270  274  276  279\n"
     ]
    }
   ],
   "source": [
    "test01=[\n",
    "    [270,274,276,279]\n",
    "]\n",
    "df_test01 = pd.DataFrame(test01,\n",
    "                      index=['2022/02/04'],columns=\n",
    "                      ['始値','高値','安値','終値'])\n",
    "print(df_test01)"
   ]
  },
  {
   "cell_type": "code",
   "execution_count": 36,
   "id": "a2ce08ab-203a-46ab-bdbf-edf5bbc05eb7",
   "metadata": {},
   "outputs": [
    {
     "data": {
      "text/plain": [
       "array(['up'], dtype=object)"
      ]
     },
     "execution_count": 36,
     "metadata": {},
     "output_type": "execute_result"
    }
   ],
   "source": [
    "model_01.predict(df_test01)"
   ]
  },
  {
   "cell_type": "code",
   "execution_count": 42,
   "id": "903b0b41-3eec-4605-8607-49c575df1bb9",
   "metadata": {
    "scrolled": true
   },
   "outputs": [
    {
     "name": "stdout",
     "output_type": "stream",
     "text": [
      "             始値   高値   安値   終値\n",
      "2022/02/04  274  244  256  289\n",
      "2022/02/07  274  244  256  289\n"
     ]
    }
   ],
   "source": [
    "test02=[\n",
    "    [274,244,256,289]\n",
    "]\n",
    "df_test02 = pd.DataFrame(test02,\n",
    "                      index=['2022/02/04','2022/02/07'],columns=\n",
    "                      ['始値','高値','安値','終値'])\n",
    "print(df_test02)"
   ]
  },
  {
   "cell_type": "code",
   "execution_count": 43,
   "id": "a7dcd3b2-587b-490c-8c78-0f3749872807",
   "metadata": {},
   "outputs": [
    {
     "data": {
      "text/plain": [
       "array(['up', 'up'], dtype=object)"
      ]
     },
     "execution_count": 43,
     "metadata": {},
     "output_type": "execute_result"
    }
   ],
   "source": [
    "model_01.predict(df_test02)"
   ]
  },
  {
   "cell_type": "code",
   "execution_count": 4,
   "id": "b693e862-3039-4048-aab3-69630655067c",
   "metadata": {},
   "outputs": [
    {
     "ename": "NameError",
     "evalue": "name 'pd' is not defined",
     "output_type": "error",
     "traceback": [
      "\u001b[1;31m---------------------------------------------------------------------------\u001b[0m",
      "\u001b[1;31mNameError\u001b[0m                                 Traceback (most recent call last)",
      "Cell \u001b[1;32mIn[4], line 3\u001b[0m\n\u001b[0;32m      1\u001b[0m test03\u001b[38;5;241m=\u001b[39m[\n\u001b[0;32m      2\u001b[0m     [\u001b[38;5;241m224\u001b[39m,\u001b[38;5;241m224\u001b[39m,\u001b[38;5;241m226\u001b[39m,\u001b[38;5;241m229\u001b[39m]]\n\u001b[1;32m----> 3\u001b[0m df_test03 \u001b[38;5;241m=\u001b[39m pd\u001b[38;5;241m.\u001b[39mDataFrame(test03,\n\u001b[0;32m      4\u001b[0m                       index\u001b[38;5;241m=\u001b[39m[\u001b[38;5;124m'\u001b[39m\u001b[38;5;124m2022/02/04\u001b[39m\u001b[38;5;124m'\u001b[39m,\u001b[38;5;124m'\u001b[39m\u001b[38;5;124m2022/02/07\u001b[39m\u001b[38;5;124m'\u001b[39m,\u001b[38;5;124m'\u001b[39m\u001b[38;5;124m2022/02/08\u001b[39m\u001b[38;5;124m'\u001b[39m],columns\u001b[38;5;241m=\u001b[39m\n\u001b[0;32m      5\u001b[0m                       [\u001b[38;5;124m'\u001b[39m\u001b[38;5;124m始値\u001b[39m\u001b[38;5;124m'\u001b[39m,\u001b[38;5;124m'\u001b[39m\u001b[38;5;124m高値\u001b[39m\u001b[38;5;124m'\u001b[39m,\u001b[38;5;124m'\u001b[39m\u001b[38;5;124m安値\u001b[39m\u001b[38;5;124m'\u001b[39m,\u001b[38;5;124m'\u001b[39m\u001b[38;5;124m終値\u001b[39m\u001b[38;5;124m'\u001b[39m])\n\u001b[0;32m      6\u001b[0m \u001b[38;5;28mprint\u001b[39m(df_test03)\n",
      "\u001b[1;31mNameError\u001b[0m: name 'pd' is not defined"
     ]
    }
   ],
   "source": [
    "test03=[\n",
    "    [224,224,226,229]]\n",
    "df_test03 = pd.DataFrame(test03,\n",
    "                      index=['2022/02/04','2022/02/07','2022/02/08'],columns=\n",
    "                      ['始値','高値','安値','終値'])\n",
    "print(df_test03)"
   ]
  },
  {
   "cell_type": "code",
   "execution_count": 1,
   "id": "4705d3e9-3fa5-407c-85a0-df24de5e0870",
   "metadata": {},
   "outputs": [
    {
     "ename": "NameError",
     "evalue": "name 'model_01' is not defined",
     "output_type": "error",
     "traceback": [
      "\u001b[1;31m---------------------------------------------------------------------------\u001b[0m",
      "\u001b[1;31mNameError\u001b[0m                                 Traceback (most recent call last)",
      "Cell \u001b[1;32mIn[1], line 1\u001b[0m\n\u001b[1;32m----> 1\u001b[0m model_01\u001b[38;5;241m.\u001b[39mpredict(df_test03)\n",
      "\u001b[1;31mNameError\u001b[0m: name 'model_01' is not defined"
     ]
    }
   ],
   "source": []
  },
  {
   "cell_type": "code",
   "execution_count": null,
   "id": "06b74796-3bec-4068-9fc2-51cebb6f0d71",
   "metadata": {},
   "outputs": [],
   "source": []
  },
  {
   "cell_type": "code",
   "execution_count": null,
   "id": "be375b65-8181-43b0-9af4-5d87d8afb89d",
   "metadata": {},
   "outputs": [],
   "source": []
  }
 ],
 "metadata": {
  "kernelspec": {
   "display_name": "Python 3 (ipykernel)",
   "language": "python",
   "name": "python3"
  },
  "language_info": {
   "codemirror_mode": {
    "name": "ipython",
    "version": 3
   },
   "file_extension": ".py",
   "mimetype": "text/x-python",
   "name": "python",
   "nbconvert_exporter": "python",
   "pygments_lexer": "ipython3",
   "version": "3.11.7"
  }
 },
 "nbformat": 4,
 "nbformat_minor": 5
}
